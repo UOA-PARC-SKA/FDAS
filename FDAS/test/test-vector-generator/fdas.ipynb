{
 "cells": [
  {
   "cell_type": "markdown",
   "metadata": {},
   "source": [
    "# Visualisation sheet for FDAS module"
   ]
  },
  {
   "cell_type": "markdown",
   "metadata": {},
   "source": [
    "Set `test_case` to the directory containing the test data:"
   ]
  },
  {
   "cell_type": "code",
   "execution_count": null,
   "metadata": {},
   "outputs": [],
   "source": [
    "test_case = \"nohead-p1.234_acc0_snr0.05\""
   ]
  },
  {
   "cell_type": "markdown",
   "metadata": {},
   "source": [
    "Set up plotting:"
   ]
  },
  {
   "cell_type": "code",
   "execution_count": null,
   "metadata": {},
   "outputs": [],
   "source": [
    "import numpy as np\n",
    "import matplotlib.pyplot as plt\n",
    "\n",
    "def plot_power_spectrum(freqs, power, freq_range):\n",
    "    plt.title(\"Power spectrum\")\n",
    "    plt.xlabel(\"Frequency [Hz]\")\n",
    "    plt.ylabel(\"Power\")\n",
    "    plt.plot(freqs, power)\n",
    "    plt.xlim(*freq_range)\n",
    "    plt.show()"
   ]
  },
  {
   "cell_type": "markdown",
   "metadata": {},
   "source": [
    "Plot the power spectrum of the input signal:"
   ]
  },
  {
   "cell_type": "code",
   "execution_count": null,
   "metadata": {},
   "outputs": [],
   "source": [
    "freqs = np.load(f\"{test_case}/freqs.npy\")\n",
    "input = np.load(f\"{test_case}/input.npy\")\n",
    "power = np.real(input * np.conj(input))\n",
    "plot_power_spectrum(freqs, power, [freqs[0], freqs[-1]])"
   ]
  },
  {
   "cell_type": "markdown",
   "metadata": {},
   "source": [
    "Find the peak power in the FOP:"
   ]
  },
  {
   "cell_type": "code",
   "execution_count": null,
   "metadata": {},
   "outputs": [],
   "source": [
    "fop = np.load(f\"{test_case}/fop.npy\")\n",
    "fop_idx = np.unravel_index(np.argmax(fop), fop.shape)\n",
    "print(f\"Found peak power {fop[fop_idx]:.3f} for template #{fop_idx[0]} at {freqs[fop_idx[1]]:.2f} MHz\")"
   ]
  },
  {
   "cell_type": "markdown",
   "metadata": {},
   "source": [
    "Inspect one of the harmonic planes. As the pulsar signal is not accelerated, we plot the output of filter number 42."
   ]
  },
  {
   "cell_type": "code",
   "execution_count": null,
   "metadata": {},
   "outputs": [],
   "source": [
    "hp_3 = np.load(f\"{test_case}/hp_3.npy\")\n",
    "plot_power_spectrum(freqs, hp_3[42], [freqs[0], freqs[-1]])"
   ]
  },
  {
   "cell_type": "markdown",
   "metadata": {},
   "source": [
    "Let's again search for the peak:"
   ]
  },
  {
   "cell_type": "code",
   "execution_count": null,
   "metadata": {},
   "outputs": [],
   "source": [
    "hp_3_idx = np.unravel_index(np.argmax(hp_3), hp_3.shape)\n",
    "print(f\"Found peak power {hp_3[hp_3_idx]:.3f} for template #{hp_3_idx[0]} at {freqs[hp_3_idx[1]]:.2f} MHz\")"
   ]
  }
 ],
 "metadata": {
  "kernelspec": {
   "display_name": "Python 3",
   "language": "python",
   "name": "python3"
  },
  "language_info": {
   "codemirror_mode": {
    "name": "ipython",
    "version": 3
   },
   "file_extension": ".py",
   "mimetype": "text/x-python",
   "name": "python",
   "nbconvert_exporter": "python",
   "pygments_lexer": "ipython3",
   "version": "3.7.7"
  }
 },
 "nbformat": 4,
 "nbformat_minor": 4
}

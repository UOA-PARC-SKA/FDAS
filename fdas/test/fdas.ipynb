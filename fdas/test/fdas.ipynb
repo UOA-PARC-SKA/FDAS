{
 "cells": [
  {
   "cell_type": "markdown",
   "metadata": {},
   "source": [
    "# Visualisation sheet for FDAS module"
   ]
  },
  {
   "cell_type": "code",
   "execution_count": null,
   "metadata": {},
   "outputs": [],
   "source": [
    "import numpy as np\n",
    "import matplotlib.pyplot as plt\n",
    "from pathlib import Path"
   ]
  },
  {
   "cell_type": "markdown",
   "metadata": {},
   "source": [
    "Set `test_case` to the directory containing the test data:"
   ]
  },
  {
   "cell_type": "code",
   "execution_count": null,
   "metadata": {},
   "outputs": [],
   "source": [
    "test_cases = sorted(list(Path('data').glob('Default_1*')))\n",
    "for i, tc in enumerate(test_cases):\n",
    "    print(f\"{i:2d}: {tc}\")"
   ]
  },
  {
   "cell_type": "code",
   "execution_count": null,
   "metadata": {},
   "outputs": [],
   "source": [
    "test_case = test_cases[0]"
   ]
  },
  {
   "cell_type": "markdown",
   "metadata": {},
   "source": [
    "Check whether the FPGA output matches the reference:"
   ]
  },
  {
   "cell_type": "code",
   "execution_count": null,
   "metadata": {},
   "outputs": [],
   "source": [
    "fop_ref = np.load(f\"{test_case}/fop.npy\")\n",
    "fop_cl = np.load(f\"{test_case}/fop_cl.npy\")\n",
    "np.allclose(fop_ref, fop_cl)"
   ]
  },
  {
   "cell_type": "markdown",
   "metadata": {},
   "source": [
    "Set up plotting:"
   ]
  },
  {
   "cell_type": "code",
   "execution_count": null,
   "metadata": {},
   "outputs": [],
   "source": [
    "def plot_power_spectrum(freqs, power, freq_range):\n",
    "    plt.title(\"Power spectrum\")\n",
    "    plt.xlabel(\"Frequency [Hz]\")\n",
    "    plt.ylabel(\"Power\")\n",
    "    plt.plot(freqs, power)\n",
    "    plt.xlim(*freq_range)\n",
    "    plt.show()\n",
    "\n",
    "freqs = np.load(f\"{test_case}/freqs.npy\")"
   ]
  },
  {
   "cell_type": "markdown",
   "metadata": {},
   "source": [
    "Select what to plot:"
   ]
  },
  {
   "cell_type": "code",
   "execution_count": null,
   "metadata": {},
   "outputs": [],
   "source": [
    "plane = np.load(f\"{test_case}/fop.npy\")"
   ]
  },
  {
   "cell_type": "code",
   "execution_count": null,
   "metadata": {},
   "outputs": [],
   "source": [
    "fig, axs = plt.subplots(3,7)\n",
    "fig.set_size_inches(50, 20)\n",
    "for i in range(21):\n",
    "    ax = axs[np.unravel_index(i, axs.shape)]\n",
    "    max_idx = np.argmax(plane[i])\n",
    "    max_freq = freqs[max_idx]\n",
    "    max_ampl = plane[i][max_idx]\n",
    "    accel = 175/20*i - 87.5  # assuming the small vector size\n",
    "    ax.set_title(f\"# {i-10} ~ {accel:.1f} m/s^2, peak {max_ampl:.2f} @ {max_freq:.1f} MHz\")\n",
    "    ax.plot(freqs, plane[i])"
   ]
  }
 ],
 "metadata": {
  "kernelspec": {
   "display_name": "Python 3",
   "language": "python",
   "name": "python3"
  },
  "language_info": {
   "codemirror_mode": {
    "name": "ipython",
    "version": 3
   },
   "file_extension": ".py",
   "mimetype": "text/x-python",
   "name": "python",
   "nbconvert_exporter": "python",
   "pygments_lexer": "ipython3",
   "version": "3.7.7"
  }
 },
 "nbformat": 4,
 "nbformat_minor": 4
}
